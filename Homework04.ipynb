{
 "cells": [
  {
   "cell_type": "markdown",
   "metadata": {},
   "source": [
    "# Homework04\n",
    "\n",
    "Some exercises with image files and pixel arrays.\n",
    "\n",
    "## Goals\n",
    "\n",
    "- Even more practice with lists\n",
    "- Practice with image _feature extraction_\n",
    "- Get familiar with computer vision techniques and terminology\n",
    "- Set up another simple classifier model with an evaluation function"
   ]
  },
  {
   "cell_type": "markdown",
   "metadata": {},
   "source": [
    "### Import helpers\n",
    "\n",
    "Run the following 2 cells to import helper functions, files and libraries"
   ]
  },
  {
   "cell_type": "code",
   "execution_count": null,
   "metadata": {},
   "outputs": [],
   "source": [
    "!wget -q https://github.com/PSAM-5020-2025S-A/5020-utils/raw/main/src/image_utils.py\n",
    "\n",
    "!wget -qO- https://github.com/PSAM-5020-2025S-A/5020-utils/releases/latest/download/forest-tree.tar.gz | tar xz"
   ]
  },
  {
   "cell_type": "code",
   "execution_count": null,
   "metadata": {},
   "outputs": [],
   "source": [
    "import PIL.Image as PImage\n",
    "\n",
    "from os import listdir, path\n",
    "from random import choice\n",
    "\n",
    "from image_utils import get_pixels, make_image, edges\n",
    "from Homework04_utils import Homework04Utils"
   ]
  },
  {
   "cell_type": "markdown",
   "metadata": {},
   "source": [
    "### Review\n",
    "\n",
    "We can use the `PImage.open()` function to open image files.\n",
    "\n",
    "Then we can use the `size` variable to get their size and the `getbands()` function to get the number of channels.\n",
    "\n",
    "The built-in jupyter function `display()` draws our image on the notebook."
   ]
  },
  {
   "cell_type": "code",
   "execution_count": null,
   "metadata": {},
   "outputs": [],
   "source": [
    "mimg = PImage.open(\"./data/image/secrets/secret_01.png\")\n",
    "\n",
    "image_width, image_height = mimg.size\n",
    "\n",
    "print(image_width, \"x\", image_height)\n",
    "print(\"total number of pixels:\", image_width * image_height)\n",
    "print(\"number of channels:\", len(mimg.getbands()))\n",
    "\n",
    "display(mimg)"
   ]
  },
  {
   "cell_type": "markdown",
   "metadata": {},
   "source": [
    "### Getting pixel color lists\n",
    "\n",
    "The `get_pixels()` function can be used to get a list of pixel color values that we can iterate over."
   ]
  },
  {
   "cell_type": "code",
   "execution_count": null,
   "metadata": {},
   "outputs": [],
   "source": [
    "mpxs = get_pixels(mimg)\n",
    "\n",
    "print(len(mpxs))\n",
    "print(mpxs[0])"
   ]
  },
  {
   "cell_type": "markdown",
   "metadata": {},
   "source": [
    "Ok, now for the actual homework...\n",
    "\n",
    "## Pixel Manipulation\n",
    "\n",
    "Let's open `./data/image/secrets/secret_00.png` again using these methods and take a closer look at the image."
   ]
  },
  {
   "cell_type": "code",
   "execution_count": null,
   "metadata": {},
   "outputs": [],
   "source": [
    "mimg01 = PImage.open(\"./data/image/secrets/secret_01.png\")\n",
    "mpxs01 = get_pixels(mimg01)\n",
    "\n",
    "print(len(mpxs01))\n",
    "print(mpxs01[0])\n",
    "\n",
    "display(mimg01)"
   ]
  },
  {
   "cell_type": "markdown",
   "metadata": {},
   "source": [
    "### Hmmm 🤔... \n",
    "\n",
    "It looks like there might be overlapping messages here, but the colors of the text got \"mixed\"."
   ]
  },
  {
   "cell_type": "markdown",
   "metadata": {},
   "source": [
    "### Exercise 01\n",
    "\n",
    "Let's take a look at the values of the first color channel.\n",
    "\n",
    "We'll have to go through the list of pixels and grab just the first value from each pixel.\n",
    "\n",
    "Then create a single-channel image from these values and take a look.\n",
    "\n",
    "#### Note:\n",
    "\n",
    "Since we're opening `png` files with a transparency layer, our images have $4$ channels. That's why we're destructuring our pixels into `(r,g,b,a)`."
   ]
  },
  {
   "cell_type": "code",
   "execution_count": null,
   "metadata": {
    "tags": [
     "work_cell"
    ]
   },
   "outputs": [],
   "source": [
    "# Work on exercise 01 here\n",
    "\n",
    "red_pxs01 = []\n",
    "for r,g,b,a in mpxs01:\n",
    "    red_pxs01.append((r, 0, 0))\n",
    "  \n",
    "  # only append the red value to our new list\n",
    "  #print(\"TODO: figure out what/when to append to red_pxs and remove this message\")\n"
   ]
  },
  {
   "cell_type": "markdown",
   "metadata": {},
   "source": [
    "### Check Exercise 01\n",
    "\n",
    "Run this cell to see the new image created from the red channel of the original image."
   ]
  },
  {
   "cell_type": "code",
   "execution_count": null,
   "metadata": {},
   "outputs": [],
   "source": [
    "red_img01 = make_image(red_pxs01)\n",
    "display(red_img01)"
   ]
  },
  {
   "cell_type": "markdown",
   "metadata": {},
   "source": [
    "### Image 02\n",
    "\n",
    "Here's the second image:"
   ]
  },
  {
   "cell_type": "code",
   "execution_count": null,
   "metadata": {},
   "outputs": [],
   "source": [
    "mimg02 = PImage.open(\"./data/image/secrets/secret_02.png\")\n",
    "mpxs02 = get_pixels(mimg02)\n",
    "display(mimg02)"
   ]
  },
  {
   "cell_type": "markdown",
   "metadata": {},
   "source": [
    "### Exercise 02\n",
    "\n",
    "Let's take a look at all of its channels separately.\n",
    "\n",
    "We'll have to go through the list of pixels and put each color value from each pixel into a separate list.\n",
    "\n",
    "Then create single-channel images from these lists and take a look."
   ]
  },
  {
   "cell_type": "code",
   "execution_count": null,
   "metadata": {
    "tags": [
     "work_cell"
    ]
   },
   "outputs": [],
   "source": [
    "# Work on exercise 02 here\n",
    "\n",
    "red_pxs02 = []\n",
    "green_pxs02 = []\n",
    "blue_pxs02 = []\n",
    "\n",
    "for r,g,b,a in mpxs02:\n",
    "  # append the channel values to the corresponding list\n",
    "  red_pxs02.append((r, 0,0,a))\n",
    "  green_pxs02.append((0, g,0,a))\n",
    "  blue_pxs02.append((0,0,b,a))\n",
    "  #print(\"TODO: figure out what/when to append to the arrays above and remove this message\")\n"
   ]
  },
  {
   "cell_type": "markdown",
   "metadata": {},
   "source": [
    "### Check Exercise 02\n",
    "\n",
    "Run this cell to see the new images created from each channel of the original image."
   ]
  },
  {
   "cell_type": "code",
   "execution_count": null,
   "metadata": {},
   "outputs": [],
   "source": [
    "red_img02 = make_image(red_pxs02, mimg02.size[0])\n",
    "green_img02 = make_image(green_pxs02, mimg02.size[0])\n",
    "blue_img02 = make_image(blue_pxs02, mimg02.size[0])\n",
    "\n",
    "display(red_img02)\n",
    "display(green_img02)\n",
    "display(blue_img02)"
   ]
  },
  {
   "cell_type": "markdown",
   "metadata": {},
   "source": [
    "### Image 03\n",
    "\n",
    "And here's the next image:"
   ]
  },
  {
   "cell_type": "code",
   "execution_count": null,
   "metadata": {},
   "outputs": [],
   "source": [
    "mimg03 = PImage.open(\"./data/image/secrets/secret_03.png\")\n",
    "mpxs03 = get_pixels(mimg03)\n",
    "display(mimg03)"
   ]
  },
  {
   "cell_type": "markdown",
   "metadata": {},
   "source": [
    "### Exercise 03\n",
    "\n",
    "Just like with the previous image, let's take a look at all of the channels separately.\n",
    "\n",
    "We'll have to go through the list of pixels and put each color value from each pixel into a separate list.\n",
    "\n",
    "Then create single-channel images from these lists and take a look."
   ]
  },
  {
   "cell_type": "code",
   "execution_count": null,
   "metadata": {
    "tags": [
     "work_cell"
    ]
   },
   "outputs": [],
   "source": [
    "# Work on exercise 03 here\n",
    "# the code from exercise 02 might just work\n",
    "\n",
    "red_pxs03 = []\n",
    "green_pxs03 = []\n",
    "blue_pxs03 = []\n",
    "\n",
    "for r,g,b,a in mpxs03:\n",
    "  red_pxs03.append((r, 0,0,a))\n",
    "  green_pxs03.append((0,g,0,b))\n",
    "  blue_pxs03.append((0,0,b,a))\n",
    "  # append the channel values to the corresponding list\n",
    "  #print(\"TODO: figure out what/when to append to the arrays and remove this message\")\n"
   ]
  },
  {
   "cell_type": "markdown",
   "metadata": {},
   "source": [
    "### Check Exercise 03\n",
    "\n",
    "Run this cell to see the new images created from each channel of the original image."
   ]
  },
  {
   "cell_type": "code",
   "execution_count": null,
   "metadata": {},
   "outputs": [],
   "source": [
    "red_img03 = make_image(red_pxs03)\n",
    "green_img03 = make_image(green_pxs03)\n",
    "blue_img03 = make_image(blue_pxs03)\n",
    "\n",
    "display(red_img03)\n",
    "display(green_img03)\n",
    "display(blue_img03)"
   ]
  },
  {
   "cell_type": "markdown",
   "metadata": {},
   "source": [
    "### Image 04\n",
    "\n",
    "Here's the next image:"
   ]
  },
  {
   "cell_type": "code",
   "execution_count": null,
   "metadata": {},
   "outputs": [],
   "source": [
    "mimg04 = PImage.open(\"./data/image/secrets/secret_04.png\")\n",
    "mpxs04 = get_pixels(mimg04)\n",
    "display(mimg04)"
   ]
  },
  {
   "cell_type": "markdown",
   "metadata": {},
   "source": [
    "### Exercise 04\n",
    "\n",
    "What ?!?\n",
    "\n",
    "Well... the previous image gave some hints.\n",
    "\n",
    "The \"above average\" bit could mean we have to look at pixels that are above the average value for each channel.\n",
    "\n",
    "Let's start by getting a list of the red channel values, then we can calculate their average and look at the pixels that are above this average value.\n",
    "\n",
    "Then we'll go through the pixels and when we find a pixel with a red value above the average we'll just saturate that pixel by setting it to $255$."
   ]
  },
  {
   "cell_type": "code",
   "execution_count": null,
   "metadata": {
    "tags": [
     "work_cell"
    ]
   },
   "outputs": [],
   "source": [
    "# Work on exercise 04\n",
    "\n",
    "red_pxs04 = []\n",
    "for r,g,b,a in mpxs04:\n",
    "  red_pxs04.append(r)\n",
    "  # append the channel value to the new list\n",
    "  #print(\"TODO: figure out what/when to append to red_pxs and remove this message\")\n",
    "\n",
    "# calculate the average value of red pixels\n",
    "print(len(red_pxs04))\n",
    "red_avg = sum(red_pxs04) / len(red_pxs04)\n",
    "\n",
    "print(red_avg)\n",
    "  \n",
    "\n",
    "red_pxs_above_avg = []\n",
    "for r,g,b,a in mpxs04:\n",
    "  if r > red_avg:\n",
    "    red_pxs_above_avg.append(( r*50,0 ,0, a))\n",
    "  else:\n",
    "    red_pxs_above_avg.append((r, g, b, a))\n",
    "\n",
    "  # saturate the pixels that are above the channel average\n",
    "  #print(\"TODO: figure out what/when to append to red_pxs_above_avg and remove this message\")\n"
   ]
  },
  {
   "cell_type": "markdown",
   "metadata": {},
   "source": [
    "### Check Exercise 04\n",
    "\n",
    "Run this cell to see the new images created from the red channel of the original image."
   ]
  },
  {
   "cell_type": "code",
   "execution_count": null,
   "metadata": {},
   "outputs": [],
   "source": [
    "red_img04 = make_image(red_pxs_above_avg)\n",
    "display(red_img04)"
   ]
  },
  {
   "cell_type": "markdown",
   "metadata": {},
   "source": [
    "### Finish Exercise 04\n",
    "\n",
    "If the previous strategy worked for one channel, repeat it for all 3.\n",
    "\n",
    "Find the average of each channel, then go through the image and if any of the channels are above their average value, saturate that pixel to $255$."
   ]
  },
  {
   "cell_type": "code",
   "execution_count": null,
   "metadata": {
    "tags": [
     "work_cell"
    ]
   },
   "outputs": [],
   "source": [
    "# Finish exercise 04\n",
    "\n",
    "red_pxs04 = []\n",
    "green_pxs04 = []\n",
    "blue_pxs04 = []\n",
    "\n",
    "for r,g,b,a in mpxs04:\n",
    "  red_pxs04.append(r)\n",
    "  green_pxs04.append(g)\n",
    "  blue_pxs04.append(b)\n",
    "  \n",
    "  # append the channel value to the right list\n",
    "  #print(\"TODO: figure out what/when to append to the r,g,b arrays and remove this message\")\n",
    "\n",
    "# calculate the average value of each channel\n",
    "red_avg = sum(red_pxs04) / len(red_pxs04)\n",
    "green_avg = sum(green_pxs04) / len(green_pxs04)\n",
    "blue_avg = sum(blue_pxs04) / len(blue_pxs04)\n",
    "\n",
    "above_avg_pxs = []\n",
    "for r,g,b,a in mpxs04:\n",
    "  if r > red_avg: \n",
    "    above_avg_pxs.append((r*50, 0 ,0, a))\n",
    "  elif g > green_avg:\n",
    "    above_avg_pxs.append((0, g*50 ,0, a))\n",
    "  else:\n",
    "    above_avg_pxs.append((0, 0 ,b*50, a))\n",
    "  # saturate the pixels that are above the channel average\n",
    "  #print(\"TODO: figure out what/when to append to above_avg_pxs and remove this message\")\n"
   ]
  },
  {
   "cell_type": "markdown",
   "metadata": {},
   "source": [
    "### Check Exercise 04\n",
    "\n",
    "Run this cell to see the new images created by marking above average pixels in the original image."
   ]
  },
  {
   "cell_type": "code",
   "execution_count": null,
   "metadata": {},
   "outputs": [],
   "source": [
    "above_avg_img = make_image(above_avg_pxs)\n",
    "display(above_avg_img)"
   ]
  },
  {
   "cell_type": "markdown",
   "metadata": {},
   "source": [
    "### Image 05\n",
    "\n",
    "Here's the next image:"
   ]
  },
  {
   "cell_type": "code",
   "execution_count": null,
   "metadata": {},
   "outputs": [],
   "source": [
    "mimg05 = PImage.open(\"./data/image/secrets/secret_05.png\")\n",
    "mpxs05 = get_pixels(mimg05)\n",
    "display(mimg05)"
   ]
  },
  {
   "cell_type": "markdown",
   "metadata": {},
   "source": [
    "### Exercise 05\n",
    "\n",
    "Let's just follow the instructions from the previous image and read the specified pixels."
   ]
  },
  {
   "cell_type": "code",
   "execution_count": null,
   "metadata": {
    "tags": [
     "work_cell"
    ]
   },
   "outputs": [],
   "source": [
    "# Work on exercise 05\n",
    "\n",
    "smaller_pxs = []\n",
    "for i, p in enumerate(mpxs05):\n",
    "  if i  % 7 == 0:\n",
    "    smaller_pxs.append(p)\n",
    "\n",
    "  # append the pixel to our image based on its index\n",
    "  #print(\"TODO: figure out what/when to append to smaller_pxs and remove this message\")\n"
   ]
  },
  {
   "cell_type": "markdown",
   "metadata": {},
   "source": [
    "### Check Exercise 05\n",
    "\n",
    "Run this cell to see the new image created from some of the pixels from the original image.\n",
    "\n",
    "Since we want to use a pixel array to create an image with different dimensions for `width` and `height`, we have to use `make_image(pxs, width, height)`."
   ]
  },
  {
   "cell_type": "code",
   "execution_count": null,
   "metadata": {},
   "outputs": [],
   "source": [
    "smaller_new_img = make_image(smaller_pxs)\n",
    "display(smaller_new_img)"
   ]
  },
  {
   "cell_type": "markdown",
   "metadata": {},
   "source": [
    "### Image 06"
   ]
  },
  {
   "cell_type": "code",
   "execution_count": null,
   "metadata": {},
   "outputs": [],
   "source": [
    "mimg06 = PImage.open(\"./data/image/secrets/secret_06.png\")\n",
    "mpxs06 = get_pixels(mimg06)\n",
    "display(mimg06)"
   ]
  },
  {
   "cell_type": "markdown",
   "metadata": {},
   "source": [
    "### Exercise 06\n",
    "\n",
    "Here we have to use `make_image(pxs, width, height)` with correct values for the `width` and `height` parameters.\n",
    "\n",
    "Let's start by checking the dimensions of this image and doing some math to see how to make it a square.\n",
    "\n",
    "##### Reminder:\n",
    "\n",
    "The `width` and `height` of a square image are equal. So:\n",
    "\n",
    "$number\\ of\\ pixels = width\\ \\times height\\\\\n",
    "\\textcolor{transparent}{number\\ of\\ pixels} = width\\ \\times width\\\\\n",
    "\\textcolor{transparent}{number\\ of\\ pixels} = height \\times height$\n",
    "\n",
    "$\\sqrt{x}$ is the same thing as $x^{0.5}$, and in python we can do that with: `x ** 0.5`."
   ]
  },
  {
   "cell_type": "code",
   "execution_count": null,
   "metadata": {
    "tags": [
     "work_cell"
    ]
   },
   "outputs": [],
   "source": [
    "# Work on exercise 06\n",
    "\n",
    "# current dimensions\n",
    "img_width, img_height = mimg06.size\n",
    "\n",
    "total_pixels = img_width * img_height # TODO: fill this in\n",
    "\n",
    "print(img_width, img_height, total_pixels)\n",
    "new_width = int(total_pixels**0.5) # TODO: fill this in\n",
    "new_height =  new_width # TODO: fill this in\n",
    "\n",
    "print(new_width, new_height )"
   ]
  },
  {
   "cell_type": "markdown",
   "metadata": {},
   "source": [
    "### Check Exercise 06\n",
    "\n",
    "Run this cell to see the fixed image."
   ]
  },
  {
   "cell_type": "code",
   "execution_count": null,
   "metadata": {},
   "outputs": [],
   "source": [
    "fixed_img = make_image(mpxs06, new_width, new_height)\n",
    "display(fixed_img)"
   ]
  },
  {
   "cell_type": "markdown",
   "metadata": {},
   "source": [
    "### Image 07"
   ]
  },
  {
   "cell_type": "code",
   "execution_count": null,
   "metadata": {},
   "outputs": [],
   "source": [
    "mimg07 = PImage.open(\"./data/image/secrets/secret_07.png\")\n",
    "mpxs07 = get_pixels(mimg07)\n",
    "display(mimg07)"
   ]
  },
  {
   "cell_type": "markdown",
   "metadata": {},
   "source": [
    "### Exercise 07\n",
    "\n",
    "Steganography is the practice of hiding information within another piece of information.\n",
    "\n",
    "One technique for doing this with images uses something called *bitmasking* and *bit shifting* on individual pixel values. What this means is that we can use each pixel value of the image to hold information about $2$ images, but in a way that isn't as obvious as some of the previous methods we looked at so far.\n",
    "\n",
    "Basically, we end up storing $2$ numbers in a place where there should only be one.\n",
    "\n",
    "How ?\n",
    "\n",
    "Let's pretend we have the numbers $1242$ and $2664$ and we want to store both of them, but only using $4$ digits.\n",
    "\n",
    "One way we can do that is by first rounding the numbers to the nearest $100$, creating numbers that only use two digits ($1200$ and $2700$), and then combining these into a single 4-digit number, $1227$.\n",
    "\n",
    "We can undo this transformation to get back the numbers $1200$ and $2700$, which aren't exactly $1242$ and $2664$, but are close enough.\n",
    "\n",
    "Doing this with pixel values is similar, but we have to work with the individual bit values of each color, for every pixel."
   ]
  },
  {
   "cell_type": "markdown",
   "metadata": {},
   "source": [
    "### With bits\n",
    "\n",
    "In the example above, to recover the number $2700$ from $1227$ we first get the remainder from diving $1227$ by $100$ and then multiply that by $100$.\n",
    "\n",
    "For our \"*3 lowest bits*\" steganography it's similar, but with different values. What we want to do to each color value is first get the remainder of a division by $8$ and then multiply that by $32$."
   ]
  },
  {
   "cell_type": "code",
   "execution_count": null,
   "metadata": {
    "tags": [
     "work_cell"
    ]
   },
   "outputs": [],
   "source": [
    "# Work on exercise 07\n",
    "def calc_secret(colorValue):\n",
    "  reminder = colorValue % 8\n",
    "  result = reminder * 32\n",
    "  return result\n",
    "\n",
    "decoded_pxs = []\n",
    "for r,g,b,a in mpxs07:\n",
    "  # get the lowest 3 bits of each color channel by  \n",
    "  # getting the remainder of a division by 8\n",
    "  # and then multiply the result by 32\n",
    "  decoded_pxs.append((calc_secret(r),calc_secret(g), calc_secret(b), calc_secret(a)))\n",
    "  #print(\"TODO: figure out what/when to append to decoded_pxs and remove this message\")\n",
    "\n"
   ]
  },
  {
   "cell_type": "markdown",
   "metadata": {},
   "source": [
    "### Check Exercise 07\n",
    "\n",
    "Run this cell to see the fixed image."
   ]
  },
  {
   "cell_type": "code",
   "execution_count": null,
   "metadata": {},
   "outputs": [],
   "source": [
    "decoded_img = make_image(decoded_pxs)\n",
    "display(decoded_img)"
   ]
  },
  {
   "cell_type": "markdown",
   "metadata": {},
   "source": [
    "## Image Classification\n",
    "\n",
    "I messed up again and now I have a directory full of image files with erroneous filenames.\n",
    "\n",
    "# 😓\n",
    "\n",
    "The `data/image/forest-tree/test` directory has a bunch of files that I want to separate according to what's on the picture. I could do this by hand, but since there are more than $150$ files, I'd rather not.\n",
    "\n",
    "Luckily, some files were exported with correct names. Those are in the `data/image/forest-tree/train` directory.\n",
    "\n",
    "The files are either of `forests`, `trees`, or flower arrangements done by `florists`.\n",
    "\n",
    "Our task for this exercise is to take a look at the correctly labeled files in the `train` directory, do some analysis on their pixels, and see if there are any patterns or properties that we could use to automatically re-label the files in the `test` directory.\n",
    "\n",
    "Let's break this down into steps again.\n",
    "\n",
    "### 01A. Reading all the labeled files\n",
    "\n",
    "Let's first read all of the files in the `data/image/forest-tree/train` directory.\n",
    "\n",
    "We are going to use the `Python` system function `listdir()` for listing files in a directory."
   ]
  },
  {
   "cell_type": "code",
   "execution_count": null,
   "metadata": {},
   "outputs": [],
   "source": [
    "# Declare location of train files\n",
    "TRAIN_PATH = \"data/image/forest-tree/train\"\n",
    "\n",
    "# List comprehension for getting all of the filenames that end in \"jpg\" inside the train directory\n",
    "train_files = [f for f in listdir(TRAIN_PATH) if f.endswith(\"jpg\")]"
   ]
  },
  {
   "cell_type": "markdown",
   "metadata": {},
   "source": [
    "### Checking our list\n",
    "\n",
    "Take a look at the `train_files` list.\n",
    "\n",
    "How many files are there?\n",
    "\n",
    "How are the file names formatted ?"
   ]
  },
  {
   "cell_type": "code",
   "execution_count": null,
   "metadata": {
    "tags": [
     "work_cell"
    ]
   },
   "outputs": [],
   "source": [
    "# print the size of the train_files list here, along with some of its contents\n",
    "print(len(train_files))\n",
    "print(train_files[:10])"
   ]
  },
  {
   "cell_type": "markdown",
   "metadata": {},
   "source": [
    "### 01B. Reading the unlabeled files\n",
    "\n",
    "Repeat the above steps to get the names of all of the files inside the `data/image/forest-tree/test` directory.\n",
    "\n",
    "How many files are there?\n",
    "\n",
    "How are the files named?\n",
    "\n",
    "Print the number of files in the directory and their names below."
   ]
  },
  {
   "cell_type": "code",
   "execution_count": null,
   "metadata": {
    "tags": [
     "work_cell"
    ]
   },
   "outputs": [],
   "source": [
    "# Fill out the values for these two variables\n",
    "\n",
    "# Declare location of test files\n",
    "TEST_PATH = \"./data/image/forest-tree/test\"\n",
    "\n",
    "# Get all of the filenames that end in \"jpg\" inside the test directory\n",
    "test_files = [f for f in listdir(TEST_PATH) if f.endswith(\"jpg\")]\n",
    "\n",
    "# Print the number of files inside the list and some of its contents\n",
    "print(len(test_files))\n",
    "print(test_files[:7])"
   ]
  },
  {
   "cell_type": "markdown",
   "metadata": {},
   "source": [
    "### 02A. Iterating through the files\n",
    "\n",
    "Let's iterate through all of the files in `train_files`, open them, and get the number of pixels for each image.\n",
    "\n",
    "In order to analyze, plot and process our data later, let's keep track of the number of pixels and the name of the file in a list with the following format:\n",
    "\n",
    "```py\n",
    "file_info = [\n",
    "  [value, filename],\n",
    "  [value, filename],\n",
    "  ...\n",
    "]\n",
    "```\n",
    "\n",
    "This is exactly like how we organized data in the last homework assignment: `file_info` is a list of lists, where each inner list has two members, `value`, which is some numeric info about the image, and `filename`, which is the name of the file.\n",
    "\n",
    "For now, the `value` we are interested in extracting is the number of pixels in each image file.\n",
    "\n",
    "We'll use the `Python` function `path.join()` to get the full path of the files inside our `train_files` list.\n",
    "\n",
    "And then, just like in the previous homework, we can use the `plot_labels_vals()` function inside the `Homework04Utils` class to plot the info we extract from our files.\n",
    "\n",
    "We just have to call the function with a list of `[value, filename]` elements, and a title for our graph.\n",
    "\n",
    "If the `filename` used contains information about the image label it will group values by those labels.\n"
   ]
  },
  {
   "cell_type": "code",
   "execution_count": null,
   "metadata": {},
   "outputs": [],
   "source": [
    "# list to keep info about image files\n",
    "length_info_train = []\n",
    "\n",
    "# iterate through all of the filenames inside the train files list\n",
    "for fname in train_files:\n",
    "  # this gets us the full location path for the filename\n",
    "  fpath = path.join(TRAIN_PATH, fname)\n",
    "\n",
    "  # open the file and read its pixels into an array\n",
    "  mimg = PImage.open(fpath)\n",
    "  mpxs = get_pixels(mimg)\n",
    "\n",
    "  # get value of interest (number of pixels in image)\n",
    "  val = len(mpxs)\n",
    "\n",
    "  # store the info using the format specified above\n",
    "  length_info_train.append([ val, fname ])\n",
    "\n",
    "# check that we processed all files. This should be as long as the train_files list\n",
    "print(len(length_info_train))\n",
    "\n",
    "# plot the (val, filename) pairs\n",
    "Homework04Utils.plot_labels_vals(length_info_train, \"Train file pixel counts\")"
   ]
  },
  {
   "cell_type": "markdown",
   "metadata": {},
   "source": [
    "# 🤔\n",
    "\n",
    "The values on the x-axis are the number of pixels in each file.\n",
    "\n",
    "We can see that the images all have different sizes, but they're all around $50000$ pixels, and it doesn't look like pixel count is a feature we could use to classify our images.\n",
    "\n",
    "But, let's make sure there are no patterns.\n",
    "\n",
    "### 02B. Repeat for `test` files\n",
    "\n",
    "Repeat the above process for the test files."
   ]
  },
  {
   "cell_type": "code",
   "execution_count": null,
   "metadata": {
    "tags": [
     "work_cell"
    ]
   },
   "outputs": [],
   "source": [
    "# list to keep info about image files\n",
    "length_info_test = []\n",
    "\n",
    "# iterate through all of the filenames inside the test files list\n",
    "for f_name in test_files:\n",
    "    # get full location path for the filename\n",
    "    pth = path.join(TEST_PATH, f_name)\n",
    "    # open the file and read its pixels into an array\n",
    "    img = PImage.open(pth)\n",
    "    pxs = list(img.getdata())\n",
    "    # get value of interest (number of pixels in image)\n",
    "    val = len(pxs)\n",
    "    # store the info using the format specified above: [value, filename]\n",
    "    length_info_test.append([val, f_name])\n",
    "\n",
    "# check that we processed all files. \n",
    "print(len(length_info_test))\n",
    "\n",
    "# plot the (val, filename) pairs\n",
    "Homework04Utils.plot_labels_vals(length_info_test, \"Test: Number of pixels\")\n"
   ]
  },
  {
   "cell_type": "markdown",
   "metadata": {},
   "source": [
    "We can see that there are some image sizes that are more common, but it doesn't look like pixel count will tell us anything about the content of the image.\n",
    "\n",
    "Either way, it's always a good idea to plot any and all information about our data because sometimes we get lucky and find some pattern that is easy to extract and use.\n",
    "\n",
    "### 03. Looking at other data\n",
    "\n",
    "Let's repeat the process of extracting info from our files, but this time let's look at the image's color information.\n",
    "\n",
    "We saw many ways of counting pixel colors in the [WK04 notebook](https://github.com/PSAM-5020-2025S-A/WK04): channel histograms, channel separation, channel average value, filtering etc. We could try out a few of these different techniques, but filtering and counting might be the easiest method for extracting info about colors that are in multiple channels.\n",
    "\n",
    "Just like we extracted the yellow flowers from the hedgehog image, let's start by filtering and counting the purple pixels. If an image has purple pixels, it's probably a `florist` picture. There's even an [html color](https://www.w3schools.com/colors/colors_names.asp) called [Orchid](https://www.w3schools.com/colors/color_tryit.asp?color=MediumOrchid) that we can try.\n",
    "\n",
    "The `color_ratio()` function from our [WK04 notebook](https://github.com/PSAM-5020-2025S-A/WK04) is available inside the `HW04Utils` class, and we can just use it here by calling:\n",
    "\n",
    "```py\n",
    "pixel_ratio = Homework04Utils.color_ratio(pixel_array, color, threshold)\n",
    "```\n",
    "\n",
    "It takes a pixel array, a color and a threshold value as inputs, and returns the ratio of detected pixels of that color relative to the total number of pixels in the array.\n",
    "\n",
    "We want to use relative pixel counts or ratios to avoid any kind of bias due to image sizes. If we used absolute count, small areas of purple pixels in large images might overshadow large areas of purple pixels in smaller images."
   ]
  },
  {
   "cell_type": "code",
   "execution_count": 15,
   "metadata": {},
   "outputs": [
    {
     "name": "stdout",
     "output_type": "stream",
     "text": [
      "30\n"
     ]
    },
    {
     "data": {
      "image/png": "[encoded data removed]",
      "text/plain": [
       "<Figure size 800x200 with 1 Axes>"
      ]
     },
     "metadata": {},
     "output_type": "display_data"
    }
   ],
   "source": [
    "# list to keep info about image files\n",
    "image_info_train = []\n",
    "\n",
    "# color to filter: Orchid\n",
    "keep_color = (186, 85, 211)\n",
    "\n",
    "# iterate through all of the filenames inside the train files list\n",
    "for fname in train_files:\n",
    "  # this gets us the full location path for the filename\n",
    "  fpath = path.join(TRAIN_PATH, fname)\n",
    "\n",
    "  # open the file and read its pixels into an array\n",
    "  mimg = PImage.open(fpath)\n",
    "  mpxs = get_pixels(mimg)\n",
    "\n",
    "  # get value of interest (purple pixel ratio)\n",
    "  val = Homework04Utils.color_ratio(mpxs, keep_color, 180)\n",
    "\n",
    "  # store the info using the format specified above\n",
    "  image_info_train.append([ val, fname ])\n",
    "\n",
    "# check that we processed all files. This should be as long as the train_files list\n",
    "print(len(image_info_train))\n",
    "\n",
    "Homework04Utils.plot_labels_vals(image_info_train, \"Train: purple ratio\")"
   ]
  },
  {
   "cell_type": "markdown",
   "metadata": {},
   "source": [
    "# 🤨\n",
    "\n",
    "There's something of a pattern here.\n",
    "\n",
    "As expected, the `florist` images tend to have more `purple` than the other images, and surprisingly, `tree` images seem to have more purple than the `forest` images.\n",
    "\n",
    "Let's build a model for classifying our images based on purple pixel ratio.\n",
    "\n",
    "### 04. Create a model\n",
    "\n",
    "Let's use the info in the graph and create a function that outputs the image label based on its purple pixel amount.\n",
    "\n",
    "If the purple ratio of an image is greater than $0.8$ we'll say it's a `florist` image, if it's between $0.4$ and $0.8$ we'll label it `tree`, otherwise it's a `forest`.\n",
    "\n",
    "It won't be perfect, but we can check how close we get with just this small amount of information."
   ]
  },
  {
   "cell_type": "code",
   "execution_count": 16,
   "metadata": {},
   "outputs": [],
   "source": [
    "# function that takes an image and returns a label\n",
    "def purple_ratio_classifier(img):\n",
    "  keep_color = (186, 85, 211)\n",
    "  pxs = get_pixels(img)\n",
    "  purple_ratio = Homework04Utils.color_ratio(pxs, keep_color, 180)\n",
    "  if purple_ratio > 0.8:\n",
    "    return \"florist\"\n",
    "  elif purple_ratio < 0.4:\n",
    "    return \"forest\"\n",
    "  else:\n",
    "    return \"tree\""
   ]
  },
  {
   "cell_type": "markdown",
   "metadata": {},
   "source": [
    "### Random classifier\n",
    "\n",
    "We're also gonna create a random classifier to use as a baseline for comparisons later.\n",
    "\n",
    "The random classifier just guesses a label randomly. Our model should do better than random guesses."
   ]
  },
  {
   "cell_type": "code",
   "execution_count": 17,
   "metadata": {},
   "outputs": [],
   "source": [
    "# random classifier to use for comparisons\n",
    "def random_classifier(_):\n",
    "  # the choice() function selects a random element from a list\n",
    "  return choice([\"florist\", \"forest\", \"tree\"])"
   ]
  },
  {
   "cell_type": "markdown",
   "metadata": {},
   "source": [
    "### 05. Run classification on `train` data\n",
    "\n",
    "Let's iterate through all the train files again, and this time instead of saving the purple ratio value and the filename in the list, we'll save our calculated label and the filename.\n",
    "\n",
    "```py\n",
    "purple_ratio_predictions = [\n",
    "  [label, filename],\n",
    "  [label, filename],\n",
    "  ...\n",
    "]\n",
    "```\n",
    "\n",
    "We'll also keep track of classifications made by the `random_classifier`."
   ]
  },
  {
   "cell_type": "code",
   "execution_count": 18,
   "metadata": {},
   "outputs": [
    {
     "name": "stdout",
     "output_type": "stream",
     "text": [
      "30\n",
      "[['florist', 'tree-39.jpg'], ['florist', 'florist-14.jpg'], ['tree', 'florist-12.jpg']]\n"
     ]
    }
   ],
   "source": [
    "# list to keep info about predictions\n",
    "purple_ratio_predictions_train = []\n",
    "\n",
    "# list to keep info about random predictions\n",
    "random_predictions_train = []\n",
    "\n",
    "# iterate through all of the filenames inside the train files list\n",
    "for fname in train_files:\n",
    "  # this gets us the full location path for the filename\n",
    "  fpath = path.join(TRAIN_PATH, fname)\n",
    "\n",
    "  # open the image from the file\n",
    "  mimg = PImage.open(fpath)\n",
    "\n",
    "  # get prediction using model defined above\n",
    "  prediction = purple_ratio_classifier(mimg)\n",
    "\n",
    "  # get prediction using random classifier defined above\n",
    "  random_prediction = random_classifier(mimg)\n",
    "\n",
    "  # store the prediction and filename\n",
    "  purple_ratio_predictions_train.append([ prediction, fname ])\n",
    "\n",
    "  # store the random prediction and filename\n",
    "  random_predictions_train.append([ random_prediction, fname ])\n",
    "\n",
    "# check that we processed all files. This should be as long as the train_files list\n",
    "print(len(purple_ratio_predictions_train))\n",
    "\n",
    "# look at first couple of predictions just to check that our format is correct\n",
    "print(purple_ratio_predictions_train[:3])"
   ]
  },
  {
   "cell_type": "markdown",
   "metadata": {},
   "source": [
    "### 06. Check accuracy on `train` data\n",
    "\n",
    "We could go through the list and extract the correct label information from the filename to check our predictions, but luckily our `Homework04Utils` class has a function that does that.\n",
    "\n",
    "We just have to call `classification_accuracy()` with our list of labels and filenames.\n",
    "\n",
    "We can also call it with the random predictions to see how we compare to randomly guessing labels."
   ]
  },
  {
   "cell_type": "code",
   "execution_count": 19,
   "metadata": {},
   "outputs": [
    {
     "name": "stdout",
     "output_type": "stream",
     "text": [
      "Purple Classifier {'florist': 0.7, 'forest': 0.6, 'tree': 0.5, 'overall': 0.6}\n",
      "Random Classifier {'florist': 0.5, 'forest': 0.4, 'tree': 0.5, 'overall': 0.46667}\n"
     ]
    }
   ],
   "source": [
    "print(\"Purple Classifier\", Homework04Utils.classification_accuracy(purple_ratio_predictions_train))\n",
    "print(\"Random Classifier\", Homework04Utils.classification_accuracy(random_predictions_train))"
   ]
  },
  {
   "cell_type": "markdown",
   "metadata": {},
   "source": [
    "Not bad. Our model predicts the correct label about half of the time, which is better than randomly guessing and getting it right $33\\%$ of the time.\n",
    "\n",
    "Let's see how it performs on the actual `test` data.\n",
    "\n",
    "### 07. Run model on `test` data and check accuracy\n",
    "\n",
    "Repeat the above, but using the `test` data files.\n",
    "\n",
    "Don't worry about keeping track of random classifications this time. We know they're correct about $33\\%$ of the time."
   ]
  },
  {
   "cell_type": "code",
   "execution_count": 23,
   "metadata": {
    "tags": [
     "work_cell"
    ]
   },
   "outputs": [
    {
     "name": "stdout",
     "output_type": "stream",
     "text": [
      "150\n",
      "[['forest', '211600345.jpg'], ['forest', '242388839.jpg'], ['forest', '174519124.jpg'], ['forest', '492316470.jpg'], ['forest', '136322133.jpg']]\n",
      "Purple Classifier {'florist': 0.0, 'forest': 1.0, 'tree': 0.0, 'overall': 0.33333}\n"
     ]
    }
   ],
   "source": [
    "# list to keep info about predictions\n",
    "purple_ratio_predictions_test = []\n",
    "\n",
    "# iterate through all of the filenames inside the test files li\n",
    "for f in test_files:\n",
    "  # get full location path for the filename\n",
    "  img_pth = path.join(TEST_PATH, f)\n",
    "  # open the image from the file\n",
    "  img = PImage.open(img_pth)\n",
    "  # get prediction using model defined above\n",
    "  prediction = purple_ratio_classifier(mimg)\n",
    "  # store the prediction and filename\n",
    "  purple_ratio_predictions_test.append([prediction, f])\n",
    "# check that we processed all files. This should be as long as the test_files list\n",
    "print(len(purple_ratio_predictions_test))\n",
    "# look at first couple of predictions just to check that our format is correct\n",
    "print(purple_ratio_predictions_test[:5])\n",
    "# check accuracy\n",
    "print(\"Purple Classifier\", Homework04Utils.classification_accuracy(purple_ratio_predictions_test))"
   ]
  },
  {
   "cell_type": "markdown",
   "metadata": {},
   "source": [
    "# 🤔\n",
    "\n",
    "Not bad. Surprisingly this model works better on `forest` images than in `florist` images. But, it's better than the random classifier.\n",
    "\n",
    "Let's improve it.\n",
    "\n",
    "### Repeat steps $04$ through $07$\n",
    "\n",
    "This time, consider other aspects of the image to build a better model.\n",
    "\n",
    "Maybe the purple `RGB` value can be adjusted: there are other flower-based color names in the [html color table](https://www.w3schools.com/colors/colors_names.asp).\n",
    "\n",
    "Maybe a completely different color can be used. Some kind of green can probably be used to separate `forest` and `tree` images from `florist` images.\n",
    "\n",
    "Maybe the edge counting technique from `WK06` can be used as a rough estimate for the number of leafs in an image since more leafs would probably mean more edges. The `edges()` function from the `WK06` notebook is available inside the `image_utils` library.\n",
    "\n",
    "It can be used like this to get edge information from an image:\n",
    "\n",
    "```py\n",
    "edge_img = edges(img)\n",
    "```\n",
    "\n",
    "This will return another image with edge information, not the edge ratios we saw in the `WK06` notebook.\n",
    "\n",
    "Our new model won't be perfect. Pick a couple of these strategies to experiment with and just confirm that it performs better than the random classifier that guesses the image label, and better than the `purple_ratio_classifier` above."
   ]
  },
  {
   "cell_type": "markdown",
   "metadata": {},
   "source": [
    "### Analyze data\n",
    "\n",
    "Take a look at other properties of the `train` image files.\n",
    "\n",
    "The loop below is mostly filled out, but the `val` variable has to be calculated using some other information from our image data."
   ]
  },
  {
   "cell_type": "code",
   "execution_count": 54,
   "metadata": {
    "tags": [
     "work_cell"
    ]
   },
   "outputs": [
    {
     "data": {
      "image/png": "[encoded data removed]",
      "text/plain": [
       "<Figure size 800x200 with 1 Axes>"
      ]
     },
     "metadata": {},
     "output_type": "display_data"
    }
   ],
   "source": [
    "# list to keep info about image files \n",
    "image_info_train = []\n",
    "\n",
    "#red: 150 - 200, green: 75 - 125, and blue: 0 - 25\n",
    "braun = (150, 120, 10)\n",
    "green = (32, 97, 19)\n",
    "green_02 = (26, 78, 16)\n",
    "green_03 = (24, 71, 15)\n",
    "green_04 = (37, 90, 26)\n",
    "\n",
    "\n",
    "# iterate through all of the filenames inside the train files list\n",
    "for fname in train_files:\n",
    "  # this gets us the full location path for the filename\n",
    "  fpath = path.join(TRAIN_PATH, fname)\n",
    "\n",
    "  # open the file and read its pixels into an array\n",
    "  mimg = PImage.open(fpath)\n",
    "  mpxs = get_pixels(mimg)\n",
    "\n",
    "  # TODO: get value of interest here !!!!\n",
    "  val = Homework04Utils.color_ratio(mpxs, green_03, 180)\n",
    "\n",
    "\n",
    "  # store the info using the format specified above\n",
    "  image_info_train.append([ val, fname ])\n",
    "\n",
    "Homework04Utils.plot_labels_vals(image_info_train, \"Train: some new feature\")"
   ]
  },
  {
   "cell_type": "markdown",
   "metadata": {},
   "source": [
    "### Build model\n",
    "\n",
    "Fill in the function below to create a better classifier based on the analysis done above."
   ]
  },
  {
   "cell_type": "code",
   "execution_count": 73,
   "metadata": {
    "tags": [
     "work_cell"
    ]
   },
   "outputs": [],
   "source": [
    "# returns a label based on __??????__\n",
    "def awesome_classifier(img):\n",
    "  # TODO: fill out this function !!!\n",
    "  green = (24, 71, 15)\n",
    "  pxs = get_pixels(img)\n",
    "  green_ration = Homework04Utils.color_ratio(pxs, green, 180)\n",
    "  if green_ration > 0.3 and green_ration < 0.63:\n",
    "    return \"tree\"\n",
    "  elif green_ration > 0.64:\n",
    "    return \"forest\"\n",
    "  else:\n",
    "    return \"florist\""
   ]
  },
  {
   "cell_type": "markdown",
   "metadata": {},
   "source": [
    "### Run on `train` and `test` data and check accuracy\n",
    "\n",
    "This cell is already filled out, we just have to run it to get the accuracy values for our model.\n",
    "\n",
    "Our model won't be perfect, but it should perform better than the `random_classifier` model on the `test` data."
   ]
  },
  {
   "cell_type": "code",
   "execution_count": 74,
   "metadata": {
    "tags": [
     "work_cell"
    ]
   },
   "outputs": [
    {
     "name": "stdout",
     "output_type": "stream",
     "text": [
      "Train Accuracy\n",
      "\tRandom {'florist': 0.5, 'forest': 0.4, 'tree': 0.3, 'overall': 0.4}\n",
      "\tAwesome {'florist': 0.9, 'forest': 1.0, 'tree': 0.6, 'overall': 0.83333}\n",
      "\n",
      "Test Accuracy\n",
      "\tRandom {'florist': 0.3, 'forest': 0.24, 'tree': 0.38, 'overall': 0.30667}\n",
      "\tAwesome {'florist': 0.74, 'forest': 1.0, 'tree': 0.6, 'overall': 0.78}\n"
     ]
    }
   ],
   "source": [
    "# lists to keep info about predictions\n",
    "train_model_predictions = []\n",
    "train_random_predictions = []\n",
    "\n",
    "test_model_predictions = []\n",
    "test_random_predictions = []\n",
    "\n",
    "# iterate through all of the filenames inside the train files list\n",
    "for fname in train_files:\n",
    "  # open the image file\n",
    "  mimg = PImage.open(path.join(TRAIN_PATH, fname))\n",
    "\n",
    "  # get prediction using random classifier\n",
    "  random_prediction = random_classifier(mimg)\n",
    "  # get prediction using awesome model defined above\n",
    "  model_prediction = awesome_classifier(mimg)\n",
    "\n",
    "  # store the predictions and filename\n",
    "  train_random_predictions.append([ random_prediction, fname ])\n",
    "  train_model_predictions.append([ model_prediction, fname ])\n",
    "\n",
    "\n",
    "print(\"Train Accuracy\")\n",
    "print(\"\\tRandom\", Homework04Utils.classification_accuracy(train_random_predictions))\n",
    "print(\"\\tAwesome\", Homework04Utils.classification_accuracy(train_model_predictions))\n",
    "\n",
    "\n",
    "# iterate through all of the filenames inside the test files list\n",
    "for fname in test_files:\n",
    "  # open the image file\n",
    "  mimg = PImage.open(path.join(TEST_PATH, fname))\n",
    "\n",
    "  # get prediction using random classifier\n",
    "  random_prediction = random_classifier(mimg)\n",
    "  # get prediction using awesome model defined above\n",
    "  model_prediction = awesome_classifier(mimg)\n",
    "\n",
    "  # store the predictions and filename\n",
    "  test_random_predictions.append([ random_prediction, fname ])\n",
    "  test_model_predictions.append([ model_prediction, fname ])\n",
    "\n",
    "\n",
    "print(\"\\nTest Accuracy\")\n",
    "print(\"\\tRandom\", Homework04Utils.classification_accuracy(test_random_predictions))\n",
    "print(\"\\tAwesome\", Homework04Utils.classification_accuracy(test_model_predictions))"
   ]
  },
  {
   "cell_type": "code",
   "execution_count": null,
   "metadata": {},
   "outputs": [],
   "source": []
  }
 ],
 "metadata": {
  "kernelspec": {
   "display_name": "Python 3",
   "language": "python",
   "name": "python3"
  },
  "language_info": {
   "codemirror_mode": {
    "name": "ipython",
    "version": 3
   },
   "file_extension": ".py",
   "mimetype": "text/x-python",
   "name": "python",
   "nbconvert_exporter": "python",
   "pygments_lexer": "ipython3",
   "version": "3.10.16"
  }
 },
 "nbformat": 4,
 "nbformat_minor": 2
}
